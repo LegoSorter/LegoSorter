{
 "cells": [
  {
   "cell_type": "code",
   "execution_count": 7,
   "metadata": {},
   "outputs": [],
   "source": [
    "from tensorflow import keras\n",
    "\n",
    "model = keras.models.load_model('model_best_new.tf')"
   ]
  },
  {
   "cell_type": "code",
   "execution_count": 8,
   "metadata": {},
   "outputs": [
    {
     "name": "stdout",
     "output_type": "stream",
     "text": [
      "Found 20 images belonging to 4 classes.\n",
      "20/20 [==============================] - 11s 539ms/step - loss: 0.4551 - accuracy: 0.9000 - categorical_accuracy: 0.9000\n"
     ]
    }
   ],
   "source": [
    "from tensorflow.keras.preprocessing.image import ImageDataGenerator\n",
    "\n",
    "test_datagen = ImageDataGenerator(rescale=1./255)\n",
    "test_generator = test_datagen.flow_from_directory(\n",
    "    str('dataset_aug/test'),\n",
    "    target_size=(224, 224),\n",
    "    batch_size=1,\n",
    "    class_mode='categorical',\n",
    "    shuffle=False\n",
    ")\n",
    "test_acc = model.evaluate(test_generator, steps=20)"
   ]
  },
  {
   "cell_type": "code",
   "execution_count": 10,
   "metadata": {},
   "outputs": [
    {
     "name": "stdout",
     "output_type": "stream",
     "text": [
      "2419/01_0.jpg: 2 [0.435, 0.000, 0.565, 0.000]\n",
      "2419/02_0.jpg: 0 [0.812, 0.000, 0.188, 0.000]\n",
      "2419/03_0.jpg: 0 [0.993, 0.007, 0.000, 0.000]\n",
      "2419/04_0.jpg: 0 [0.964, 0.036, 0.000, 0.000]\n",
      "2450/01_0.jpg: 1 [0.000, 1.000, 0.000, 0.000]\n",
      "2450/02_0.jpg: 1 [0.000, 1.000, 0.000, 0.000]\n",
      "2450/03_0.jpg: 1 [0.000, 1.000, 0.000, 0.000]\n",
      "2450/04_0.jpg: 1 [0.000, 1.000, 0.000, 0.000]\n",
      "2450/06_0.jpg: 0 [1.000, 0.000, 0.000, 0.000]\n",
      "3031/01_0.jpg: 2 [0.079, 0.085, 0.836, 0.000]\n",
      "3031/02_0.jpg: 2 [0.000, 0.000, 1.000, 0.000]\n",
      "3031/08_0.jpg: 2 [0.000, 0.000, 1.000, 0.000]\n",
      "4070/01_0.jpg: 3 [0.000, 0.000, 0.000, 1.000]\n",
      "4070/03_0.jpg: 3 [0.000, 0.000, 0.000, 1.000]\n",
      "4070/04_0.jpg: 3 [0.000, 0.000, 0.000, 1.000]\n",
      "4070/05_0.jpg: 3 [0.000, 0.000, 0.000, 1.000]\n",
      "4070/07_0.jpg: 3 [0.000, 0.000, 0.000, 1.000]\n",
      "4070/08_0.jpg: 3 [0.000, 0.000, 0.000, 1.000]\n",
      "4070/09_0.jpg: 3 [0.000, 0.000, 0.000, 1.000]\n",
      "4070/10_0.jpg: 3 [0.000, 0.000, 0.000, 1.000]\n"
     ]
    },
    {
     "data": {
      "text/plain": [
       "{'2419': 0, '2450': 1, '3031': 2, '4070': 3}"
      ]
     },
     "execution_count": 10,
     "metadata": {},
     "output_type": "execute_result"
    }
   ],
   "source": [
    "test_acc = model.predict(test_generator, steps=20)\n",
    "for i in range(20):\n",
    "    print(test_generator.filenames[i] + ': ' + str(test_acc[i].argmax()) + ' ' + str('[{:.3f}, {:.3f}, {:.3f}, {:.3f}]'.format(*test_acc[i])))\n",
    "label_map = (test_generator.class_indices)\n",
    "label_map"
   ]
  },
  {
   "cell_type": "code",
   "execution_count": null,
   "metadata": {},
   "outputs": [],
   "source": []
  }
 ],
 "metadata": {
  "kernelspec": {
   "display_name": "Python 3",
   "language": "python",
   "name": "python3"
  },
  "language_info": {
   "codemirror_mode": {
    "name": "ipython",
    "version": 3
   },
   "file_extension": ".py",
   "mimetype": "text/x-python",
   "name": "python",
   "nbconvert_exporter": "python",
   "pygments_lexer": "ipython3",
   "version": "3.7.4"
  }
 },
 "nbformat": 4,
 "nbformat_minor": 4
}
